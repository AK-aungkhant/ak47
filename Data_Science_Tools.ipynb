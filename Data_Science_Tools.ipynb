{
  "nbformat": 4,
  "nbformat_minor": 0,
  "metadata": {
    "colab": {
      "provenance": [],
      "authorship_tag": "ABX9TyOQJ2a2chgA2W9+im29Mm9F",
      "include_colab_link": true
    },
    "kernelspec": {
      "name": "python3",
      "display_name": "Python 3"
    },
    "language_info": {
      "name": "python"
    }
  },
  "cells": [
    {
      "cell_type": "markdown",
      "metadata": {
        "id": "view-in-github",
        "colab_type": "text"
      },
      "source": [
        "<a href=\"https://colab.research.google.com/github/AK-aungkhant/ak47/blob/main/Data_Science_Tools.ipynb\" target=\"_parent\"><img src=\"https://colab.research.google.com/assets/colab-badge.svg\" alt=\"Open In Colab\"/></a>"
      ]
    },
    {
      "cell_type": "markdown",
      "source": [
        "# Data Science Tools and Ecosystem\n"
      ],
      "metadata": {
        "id": "gcNWAFzPmejF"
      }
    },
    {
      "cell_type": "markdown",
      "source": [
        "## Introduction\n",
        "This notebook provides a quick overview of key languages, libraries, and tools used in Data Science. It also includes simple Python code examples to perform basic arithmetic operations and time conversions.\n"
      ],
      "metadata": {
        "id": "cqV3sB87mm5-"
      }
    },
    {
      "cell_type": "markdown",
      "source": [
        "### Data Science Languages\n",
        "- Python\n",
        "- R\n",
        "- SQL\n",
        "- Julia\n",
        "- Scala\n"
      ],
      "metadata": {
        "id": "kkLxGwx0mptW"
      }
    },
    {
      "cell_type": "markdown",
      "source": [
        "### Data Science Libraries\n",
        "- NumPy\n",
        "- Pandas\n",
        "- Matplotlib\n",
        "- Scikit-learn\n",
        "- TensorFlow\n",
        "- PyTorch\n"
      ],
      "metadata": {
        "id": "AlZatQLLmskm"
      }
    },
    {
      "cell_type": "markdown",
      "source": [
        "### Data Science Tools\n",
        "| Tool             | Category             |\n",
        "|-------------------|----------------------|\n",
        "| Jupyter Notebook  | Notebook Environment |\n",
        "| RStudio           | IDE                  |\n",
        "| Apache Spark      | Big Data Processing  |\n",
        "| TensorFlow        | Machine Learning     |\n"
      ],
      "metadata": {
        "id": "T9swnltRmuun"
      }
    },
    {
      "cell_type": "markdown",
      "source": [
        "### Arithmetic Expression Examples\n",
        "In the next cell we will demonstrate simple arithmetic expressions in Python,\n",
        "such as multiplication and addition.\n"
      ],
      "metadata": {
        "id": "RHbZOL7Pmyqf"
      }
    },
    {
      "cell_type": "code",
      "source": [
        "# Multiply and add numbers\n",
        "a = 5 * 4\n",
        "b = 5 + 4\n",
        "print(\"5 * 4 =\", a)\n",
        "print(\"5 + 4 =\", b)\n"
      ],
      "metadata": {
        "colab": {
          "base_uri": "https://localhost:8080/"
        },
        "id": "tXIJARjcm0CH",
        "outputId": "d6874d5c-44ea-4827-b06c-00c5297fd0d3"
      },
      "execution_count": 1,
      "outputs": [
        {
          "output_type": "stream",
          "name": "stdout",
          "text": [
            "5 * 4 = 20\n",
            "5 + 4 = 9\n"
          ]
        }
      ]
    },
    {
      "cell_type": "code",
      "source": [
        "# Convert minutes to hours\n",
        "minutes = 150\n",
        "hours = minutes / 60\n",
        "print(minutes, \"minutes is equal to\", hours, \"hours\")\n"
      ],
      "metadata": {
        "colab": {
          "base_uri": "https://localhost:8080/"
        },
        "id": "h5_5VxrAm3dw",
        "outputId": "5024667b-d495-4f19-a64d-c9a8dfdac26f"
      },
      "execution_count": 2,
      "outputs": [
        {
          "output_type": "stream",
          "name": "stdout",
          "text": [
            "150 minutes is equal to 2.5 hours\n"
          ]
        }
      ]
    },
    {
      "cell_type": "markdown",
      "source": [
        "### Objectives\n",
        "- List popular Data Science languages\n",
        "- List commonly used libraries\n",
        "- Present key Data Science tools in a table\n",
        "- Show simple arithmetic operations in Python\n",
        "- Convert minutes to hours with Python code\n"
      ],
      "metadata": {
        "id": "5VhhjfhUm5Zg"
      }
    },
    {
      "cell_type": "markdown",
      "source": [
        "**Author: Aung Khant**   <!-- Replace with your name -->\n"
      ],
      "metadata": {
        "id": "at_Sb1drm8EQ"
      }
    },
    {
      "cell_type": "markdown",
      "source": [],
      "metadata": {
        "id": "q-j9DNkQm9VQ"
      }
    }
  ]
}